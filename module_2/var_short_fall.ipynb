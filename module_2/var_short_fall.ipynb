{
 "cells": [
  {
   "cell_type": "markdown",
   "metadata": {},
   "source": [
    "# Value at Risk & Expected Shortfall"
   ]
  },
  {
   "cell_type": "markdown",
   "metadata": {},
   "source": [
    "LAB: VAR and ES portfolio.  \n",
    "Thierry Roncalli, Introduction to Risk Parity and Budgeting, CRC Press, 2014.  \n",
    "Example page 75.  \n",
    "Developed Alonso Pena, Fitch Learning UK, Jan 2018.  "
   ]
  },
  {
   "cell_type": "markdown",
   "metadata": {},
   "source": [
    "Link to the book: [Introduction to Risk Parity and Budgeting](https://gateway.ipfs.io/ipfs/bafykbzacebinna5wcfirp2oenopibjau7mdraiv6qo2ngght33fy7iweyt3ji?filename=%28Chapman%20and%20Hall_CRC%20Financial%20Mathematics%20Series%29%20Roncalli%2C%20Thierry%20-%20Introduction%20to%20Risk%20Parity%20and%20Budgeting-CRC%20Press%20%282013%29.pdf)"
   ]
  },
  {
   "cell_type": "markdown",
   "metadata": {},
   "source": [
    "## Step 0: Import working libary"
   ]
  },
  {
   "cell_type": "code",
   "execution_count": 1,
   "metadata": {},
   "outputs": [],
   "source": [
    "import math\n",
    "import numpy as np\n",
    "from scipy.stats import norm\n",
    "import warnings\n",
    "warnings.filterwarnings('ignore')"
   ]
  },
  {
   "cell_type": "markdown",
   "metadata": {},
   "source": [
    "## STEP 1 input data three stocks A,B,C"
   ]
  },
  {
   "cell_type": "code",
   "execution_count": 2,
   "metadata": {},
   "outputs": [],
   "source": [
    "x = np.matrix([[0.5203], [0.1439], [0.3358]])\n",
    "mu = np.matrix([[50/10000],[30/10000], [20/10000]]) \n",
    "vol = np.matrix([[2/100], [3/100], [1/100]])\n",
    "rho = np.matrix([[1, 0.5, 0.25], [0.5, 1, 0.6], [0.25, 0.6, 1]])\n",
    "Sigma = np.matrix([[4.0000e-004, 3.0000e-004, 5.0000e-005], [3.0000e-004,9.0000e-004, 1.8000e-004], [5.0000e-005,1.8000e-004,1.0000e-004]])\n",
    "alpha = 0.99"
   ]
  },
  {
   "cell_type": "markdown",
   "metadata": {},
   "source": [
    "## STEP 2 calculations"
   ]
  },
  {
   "cell_type": "markdown",
   "metadata": {},
   "source": [
    "compute VAR"
   ]
  },
  {
   "cell_type": "code",
   "execution_count": 3,
   "metadata": {},
   "outputs": [],
   "source": [
    "VAR_x = -x.T*mu + norm.ppf(alpha)*math.sqrt(x.T*Sigma*x)"
   ]
  },
  {
   "cell_type": "markdown",
   "metadata": {},
   "source": [
    "compute ES"
   ]
  },
  {
   "cell_type": "code",
   "execution_count": 4,
   "metadata": {},
   "outputs": [],
   "source": [
    "ES_x = -x.T*mu + (math.sqrt(x.T*Sigma*x))/(1-alpha)*norm.pdf(norm.ppf(alpha))"
   ]
  },
  {
   "cell_type": "markdown",
   "metadata": {},
   "source": [
    "## STEP 3 output results"
   ]
  },
  {
   "cell_type": "code",
   "execution_count": 5,
   "metadata": {},
   "outputs": [
    {
     "name": "stdout",
     "output_type": "stream",
     "text": [
      "VAR_x =  [[0.03064234]]\n",
      "ES_x =  [[0.0356455]]\n"
     ]
    }
   ],
   "source": [
    "print('VAR_x = ', VAR_x ) \n",
    "print('ES_x = ', ES_x )"
   ]
  }
 ],
 "metadata": {
  "kernelspec": {
   "display_name": "pythonlab",
   "language": "python",
   "name": "python3"
  },
  "language_info": {
   "codemirror_mode": {
    "name": "ipython",
    "version": 3
   },
   "file_extension": ".py",
   "mimetype": "text/x-python",
   "name": "python",
   "nbconvert_exporter": "python",
   "pygments_lexer": "ipython3",
   "version": "3.9.16"
  },
  "orig_nbformat": 4
 },
 "nbformat": 4,
 "nbformat_minor": 2
}
