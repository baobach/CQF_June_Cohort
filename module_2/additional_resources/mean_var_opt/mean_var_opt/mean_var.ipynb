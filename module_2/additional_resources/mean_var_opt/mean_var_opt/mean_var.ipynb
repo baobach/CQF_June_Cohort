{
 "cells": [
  {
   "cell_type": "markdown",
   "metadata": {},
   "source": [
    "# Portfolio Optimization Using Mean-Variance method"
   ]
  },
  {
   "cell_type": "markdown",
   "metadata": {},
   "source": [
    "---"
   ]
  },
  {
   "cell_type": "markdown",
   "metadata": {},
   "source": [
    "## Introduction"
   ]
  },
  {
   "cell_type": "markdown",
   "metadata": {},
   "source": [
    "In our portfolio optimization lecture, we will create a diversified portfolio spanning various industries utilizing the Mean-Variance method. We will use `PyPortfolioOpt` to solve this optimizing problem.\n",
    "\n",
    "We now try to find a portfolio $w=(w_1,\\cdots,w_n)$ that minimizes risk and maximizes return for a particular set of assets.\n",
    "\n",
    "Note that we only consider **Long Position** "
   ]
  },
  {
   "cell_type": "markdown",
   "metadata": {},
   "source": [
    "---"
   ]
  },
  {
   "cell_type": "markdown",
   "metadata": {},
   "source": [
    "## Algorithm overview"
   ]
  },
  {
   "cell_type": "markdown",
   "metadata": {},
   "source": [
    "<img src=\"/Users/baobach/CQF_June_Cohort/pictures/portfolio_opt_algo.png\" height=\"400\">\n"
   ]
  },
  {
   "cell_type": "markdown",
   "metadata": {},
   "source": [
    "---"
   ]
  },
  {
   "cell_type": "markdown",
   "metadata": {},
   "source": [
    "### Math"
   ]
  },
  {
   "cell_type": "markdown",
   "metadata": {},
   "source": [
    "The vector of asset expected returns $\\mu$ is defined as:\n",
    "\n",
    "$$\n",
    "\\mu = \\begin{pmatrix} \\mu_{1} \\\\ \\vdots \\\\ \\mu_{i} \\\\ \\vdots \\\\ \\mu_{n} \\end{pmatrix}\n",
    "$$\n",
    "\n",
    "The vector of weights is:\n",
    "$$\n",
    "w = \n",
    "\\begin{pmatrix} w_{1} \\\\ \\vdots \\\\ w_{i} \\\\ \\vdots \\\\ w_{n} \\end{pmatrix}\n",
    "$$\n",
    "\n",
    "> Such that $\\sum\\limits_{i=1}^{n}w_i = 1$\n",
    "\n",
    "Then **Expected Portfolio Return** is then the dot product of the expected returns and their weights:\n",
    "\n",
    "$$\n",
    "\\mu_\\pi = w^\\intercal \\cdot \\mu\n",
    "$$\n",
    "\n",
    "And **Expected Portfolio Variance** is then the multidot product of weights and the covariance matrix:\n",
    "\n",
    "$$\n",
    "\\sigma_\\pi^2 = w^\\intercal \\cdot \\Sigma \\cdot w\n",
    "$$\n",
    "\n",
    "The covariance matrix $\\Sigma$ is given by:\n",
    "\n",
    "$$\n",
    "\\Sigma =\n",
    "\\begin{pmatrix}\n",
    "\\sigma^{2}_{1} & \\rho_{12} \\sigma_{1} \\sigma_{2} & \\cdots & \\rho_{1n} \\sigma_{1} \\sigma_{n} \\\\ \\rho_{21} \\sigma_{2} \\sigma_{1} & \\sigma^{2}_{2} & \\cdots & \\rho_{2n} \\sigma_{2} \\sigma_{n}  \\\\ \\vdots \\\\ \\rho_{n1} \\sigma_{n} \\sigma_{1} & \\cdots & \\cdots & \\sigma^{2}_{n}\n",
    "\\end{pmatrix}\n",
    "$$\n",
    "\n",
    "Now we will find portfolio with the minimum risk (Minimum Volatility) $\\sigma_\\pi$ given target return $\\mu^*$:\n",
    "\n",
    "$$\n",
    "\\begin{align*}\n",
    "&\\underset{w}{\\text{min}} &w^\\intercal \\cdot \\Sigma \\cdot w \\\\\n",
    "&\\text{subject to} &w^\\intercal \\cdot \\mu &\\geq \\mu^* \\\\\n",
    "& &w^\\intercal \\cdot \\mathbf{1} &= 1 \\\\\n",
    "& &w_i &\\geq 0\n",
    "\\end{align*}\n",
    "$$\n",
    "\n",
    "If we vary the target return, we will get a different set of weights (i.e a different portfolio) – the set of all these optimal portfolios is referred to as the efficient frontier."
   ]
  },
  {
   "cell_type": "markdown",
   "metadata": {},
   "source": [
    "---"
   ]
  },
  {
   "cell_type": "markdown",
   "metadata": {},
   "source": [
    "### Programing"
   ]
  },
  {
   "cell_type": "markdown",
   "metadata": {},
   "source": [
    "Instead of simulating a lot of portfolio and try to find the best $w$ vector, we are going to use Efficient frontier\n",
    "\n",
    "Preparing historical asset price data to construct a portfolio following these steps:\n",
    "\n",
    "1. Select stock from diversified industries like Healthcare, Tech, Retail and Finance: \n",
    "\n",
    "    * Healthcare: Moderna (MRNA), Pfizer (PFE), Johnson & Johnson (JNJ)\n",
    "    * Tech: Google (GOOGL), Facebook (FB), Apple (AAPL)\n",
    "    * Retail: Costco (COST), Walmart (WMT),  Kroger Co (KR)\n",
    "    * Finance: JPMorgan Chase & Co (JPM), Bank of America (BAC), HSBC Holding (HSBC)  \n",
    "  \n",
    "2. Using `yfinance` package, pull historical trading data and calculate the returns \n",
    "\n",
    "3. Using `PyPortfolioOpt` to calculating covariance matrix\n",
    "\n",
    "4. Apply Efficient frontier method to find the $w$ vector that has max Sharp ratio"
   ]
  },
  {
   "cell_type": "markdown",
   "metadata": {},
   "source": [
    "#### Preparing historical data"
   ]
  },
  {
   "cell_type": "markdown",
   "metadata": {},
   "source": [
    "Import working libraries"
   ]
  },
  {
   "cell_type": "code",
   "execution_count": 1,
   "metadata": {},
   "outputs": [],
   "source": [
    "# Import pandas & yfinance\n",
    "import pandas as pd\n",
    "import yfinance as yf\n",
    "# Import numpy\n",
    "import numpy as np\n",
    "# Import date_time\n",
    "import datetime"
   ]
  },
  {
   "cell_type": "markdown",
   "metadata": {},
   "source": [
    "Create a list of stocks that we are intrested as mentioned and determine time constrains"
   ]
  },
  {
   "cell_type": "code",
   "execution_count": 2,
   "metadata": {},
   "outputs": [],
   "source": [
    "# Stock list\n",
    "stocks = [\"MRNA\", \"PFE\", \"JNJ\", \"GOOGL\", \"META\", \"AAPL\", \"COST\", \"WMT\", \"KR\", \"JPM\", \"BAC\", \"HSBC\"]\n",
    "# Time constrains for 3 years of data\n",
    "start = datetime.datetime(2020,7,25)\n",
    "end = datetime.datetime(2023,7,25)"
   ]
  },
  {
   "cell_type": "markdown",
   "metadata": {},
   "source": [
    "Let’s create a function to pull price data that we can easily reuse since we will be pulling several stocks:"
   ]
  },
  {
   "cell_type": "code",
   "execution_count": 3,
   "metadata": {},
   "outputs": [],
   "source": [
    "def get_stock(ticker):\n",
    "    data = yf.download(f'{ticker}', start = start, end = end, progress=False)\n",
    "    data[f'{ticker}'] = data[\"Close\"]\n",
    "    data = data[[f'{ticker}']] \n",
    "    print(data.head())\n",
    "    return data"
   ]
  },
  {
   "cell_type": "markdown",
   "metadata": {},
   "source": [
    "Now, let’s pull for Pfizer (PFE) and Johnson & Johnson (JNJ):"
   ]
  },
  {
   "cell_type": "code",
   "execution_count": 4,
   "metadata": {},
   "outputs": [
    {
     "name": "stdout",
     "output_type": "stream",
     "text": [
      "                  PFE\n",
      "Date                 \n",
      "2020-07-27  35.616699\n",
      "2020-07-28  37.020874\n",
      "2020-07-29  37.248577\n",
      "2020-07-30  36.755219\n",
      "2020-07-31  36.508537\n"
     ]
    }
   ],
   "source": [
    "pfizer = get_stock(\"PFE\")"
   ]
  },
  {
   "cell_type": "markdown",
   "metadata": {},
   "source": [
    "Let’s define another function that takes a list of stocks and generate a single data frame of stock prices for each stock:"
   ]
  },
  {
   "cell_type": "code",
   "execution_count": 5,
   "metadata": {},
   "outputs": [],
   "source": [
    "from functools import reduce\n",
    "\n",
    "def combine_stocks(tickers):\n",
    "    data_frames = [get_stock(i) for i in tickers]\n",
    "    # Similar to SQL join, we are accumulating the new array to the existing array.\n",
    "    # `pd.merge` has better performance than `list.append` method\n",
    "    df_merged = reduce(lambda  left,right: pd.merge(left,right,on=['Date'], how='outer'), data_frames)\n",
    "    print(df_merged.head())\n",
    "    return df_merged\n"
   ]
  },
  {
   "cell_type": "code",
   "execution_count": 6,
   "metadata": {},
   "outputs": [
    {
     "name": "stdout",
     "output_type": "stream",
     "text": [
      "                 MRNA\n",
      "Date                 \n",
      "2020-07-27  79.910004\n",
      "2020-07-28  81.489998\n",
      "2020-07-29  79.510002\n",
      "2020-07-30  77.629997\n",
      "2020-07-31  74.099998\n",
      "                  PFE\n",
      "Date                 \n",
      "2020-07-27  35.616699\n",
      "2020-07-28  37.020874\n",
      "2020-07-29  37.248577\n",
      "2020-07-30  36.755219\n",
      "2020-07-31  36.508537\n",
      "                   JNJ\n",
      "Date                  \n",
      "2020-07-27  147.179993\n",
      "2020-07-28  146.830002\n",
      "2020-07-29  146.539993\n",
      "2020-07-30  146.839996\n",
      "2020-07-31  145.759995\n",
      "                GOOGL\n",
      "Date                 \n",
      "2020-07-27  76.471497\n",
      "2020-07-28  75.182503\n",
      "2020-07-29  76.175499\n",
      "2020-07-30  76.918503\n",
      "2020-07-31  74.397499\n",
      "                  META\n",
      "Date                  \n",
      "2020-07-27  233.500000\n",
      "2020-07-28  230.119995\n",
      "2020-07-29  233.289993\n",
      "2020-07-30  234.500000\n",
      "2020-07-31  253.669998\n",
      "                  AAPL\n",
      "Date                  \n",
      "2020-07-27   94.809998\n",
      "2020-07-28   93.252502\n",
      "2020-07-29   95.040001\n",
      "2020-07-30   96.190002\n",
      "2020-07-31  106.260002\n",
      "                  COST\n",
      "Date                  \n",
      "2020-07-27  327.600006\n",
      "2020-07-28  327.570007\n",
      "2020-07-29  326.140015\n",
      "2020-07-30  324.820007\n",
      "2020-07-31  325.529999\n",
      "                   WMT\n",
      "Date                  \n",
      "2020-07-27  131.210007\n",
      "2020-07-28  131.759995\n",
      "2020-07-29  130.690002\n",
      "2020-07-30  130.119995\n",
      "2020-07-31  129.399994\n",
      "                   KR\n",
      "Date                 \n",
      "2020-07-27  34.759998\n",
      "2020-07-28  35.230000\n",
      "2020-07-29  35.110001\n",
      "2020-07-30  34.410000\n",
      "2020-07-31  34.790001\n",
      "                  JPM\n",
      "Date                 \n",
      "2020-07-27  96.900002\n",
      "2020-07-28  97.320000\n",
      "2020-07-29  99.680000\n",
      "2020-07-30  97.019997\n",
      "2020-07-31  96.639999\n",
      "                  BAC\n",
      "Date                 \n",
      "2020-07-27  24.139999\n",
      "2020-07-28  24.360001\n",
      "2020-07-29  25.270000\n",
      "2020-07-30  24.840000\n",
      "2020-07-31  24.879999\n",
      "             HSBC\n",
      "Date             \n",
      "2020-07-27  22.67\n",
      "2020-07-28  22.75\n",
      "2020-07-29  23.57\n",
      "2020-07-30  22.76\n",
      "2020-07-31  22.65\n",
      "                 MRNA        PFE         JNJ      GOOGL        META  \\\n",
      "Date                                                                  \n",
      "2020-07-27  79.910004  35.616699  147.179993  76.471497  233.500000   \n",
      "2020-07-28  81.489998  37.020874  146.830002  75.182503  230.119995   \n",
      "2020-07-29  79.510002  37.248577  146.539993  76.175499  233.289993   \n",
      "2020-07-30  77.629997  36.755219  146.839996  76.918503  234.500000   \n",
      "2020-07-31  74.099998  36.508537  145.759995  74.397499  253.669998   \n",
      "\n",
      "                  AAPL        COST         WMT         KR        JPM  \\\n",
      "Date                                                                   \n",
      "2020-07-27   94.809998  327.600006  131.210007  34.759998  96.900002   \n",
      "2020-07-28   93.252502  327.570007  131.759995  35.230000  97.320000   \n",
      "2020-07-29   95.040001  326.140015  130.690002  35.110001  99.680000   \n",
      "2020-07-30   96.190002  324.820007  130.119995  34.410000  97.019997   \n",
      "2020-07-31  106.260002  325.529999  129.399994  34.790001  96.639999   \n",
      "\n",
      "                  BAC   HSBC  \n",
      "Date                          \n",
      "2020-07-27  24.139999  22.67  \n",
      "2020-07-28  24.360001  22.75  \n",
      "2020-07-29  25.270000  23.57  \n",
      "2020-07-30  24.840000  22.76  \n",
      "2020-07-31  24.879999  22.65  \n"
     ]
    }
   ],
   "source": [
    "# Create portfolio of stocks\n",
    "portfolio = combine_stocks(stocks)"
   ]
  },
  {
   "cell_type": "markdown",
   "metadata": {},
   "source": [
    "We now have a single dataframe of returns for our stocks. Let’s write this dataframe to a csv so we can easily read in the data without repeatedly having to pull it using the Pandas-Datareader."
   ]
  },
  {
   "cell_type": "code",
   "execution_count": 8,
   "metadata": {},
   "outputs": [],
   "source": [
    "# write data to file for future use\n",
    "portfolio.to_csv('/Users/baobach/CQF_June_Cohort/module_2/additional_resources/mean_var_opt/data/portfolio_price.csv')"
   ]
  },
  {
   "cell_type": "code",
   "execution_count": 11,
   "metadata": {},
   "outputs": [
    {
     "data": {
      "text/html": [
       "<div>\n",
       "<style scoped>\n",
       "    .dataframe tbody tr th:only-of-type {\n",
       "        vertical-align: middle;\n",
       "    }\n",
       "\n",
       "    .dataframe tbody tr th {\n",
       "        vertical-align: top;\n",
       "    }\n",
       "\n",
       "    .dataframe thead th {\n",
       "        text-align: right;\n",
       "    }\n",
       "</style>\n",
       "<table border=\"1\" class=\"dataframe\">\n",
       "  <thead>\n",
       "    <tr style=\"text-align: right;\">\n",
       "      <th></th>\n",
       "      <th>MRNA</th>\n",
       "      <th>PFE</th>\n",
       "      <th>JNJ</th>\n",
       "      <th>GOOGL</th>\n",
       "      <th>META</th>\n",
       "      <th>AAPL</th>\n",
       "      <th>COST</th>\n",
       "      <th>WMT</th>\n",
       "      <th>KR</th>\n",
       "      <th>JPM</th>\n",
       "      <th>BAC</th>\n",
       "      <th>HSBC</th>\n",
       "    </tr>\n",
       "    <tr>\n",
       "      <th>Date</th>\n",
       "      <th></th>\n",
       "      <th></th>\n",
       "      <th></th>\n",
       "      <th></th>\n",
       "      <th></th>\n",
       "      <th></th>\n",
       "      <th></th>\n",
       "      <th></th>\n",
       "      <th></th>\n",
       "      <th></th>\n",
       "      <th></th>\n",
       "      <th></th>\n",
       "    </tr>\n",
       "  </thead>\n",
       "  <tbody>\n",
       "    <tr>\n",
       "      <th>2020-07-27</th>\n",
       "      <td>79.910004</td>\n",
       "      <td>35.616699</td>\n",
       "      <td>147.179993</td>\n",
       "      <td>76.471497</td>\n",
       "      <td>233.500000</td>\n",
       "      <td>94.809998</td>\n",
       "      <td>327.600006</td>\n",
       "      <td>131.210007</td>\n",
       "      <td>34.759998</td>\n",
       "      <td>96.900002</td>\n",
       "      <td>24.139999</td>\n",
       "      <td>22.67</td>\n",
       "    </tr>\n",
       "    <tr>\n",
       "      <th>2020-07-28</th>\n",
       "      <td>81.489998</td>\n",
       "      <td>37.020874</td>\n",
       "      <td>146.830002</td>\n",
       "      <td>75.182503</td>\n",
       "      <td>230.119995</td>\n",
       "      <td>93.252502</td>\n",
       "      <td>327.570007</td>\n",
       "      <td>131.759995</td>\n",
       "      <td>35.230000</td>\n",
       "      <td>97.320000</td>\n",
       "      <td>24.360001</td>\n",
       "      <td>22.75</td>\n",
       "    </tr>\n",
       "    <tr>\n",
       "      <th>2020-07-29</th>\n",
       "      <td>79.510002</td>\n",
       "      <td>37.248577</td>\n",
       "      <td>146.539993</td>\n",
       "      <td>76.175499</td>\n",
       "      <td>233.289993</td>\n",
       "      <td>95.040001</td>\n",
       "      <td>326.140015</td>\n",
       "      <td>130.690002</td>\n",
       "      <td>35.110001</td>\n",
       "      <td>99.680000</td>\n",
       "      <td>25.270000</td>\n",
       "      <td>23.57</td>\n",
       "    </tr>\n",
       "    <tr>\n",
       "      <th>2020-07-30</th>\n",
       "      <td>77.629997</td>\n",
       "      <td>36.755219</td>\n",
       "      <td>146.839996</td>\n",
       "      <td>76.918503</td>\n",
       "      <td>234.500000</td>\n",
       "      <td>96.190002</td>\n",
       "      <td>324.820007</td>\n",
       "      <td>130.119995</td>\n",
       "      <td>34.410000</td>\n",
       "      <td>97.019997</td>\n",
       "      <td>24.840000</td>\n",
       "      <td>22.76</td>\n",
       "    </tr>\n",
       "    <tr>\n",
       "      <th>2020-07-31</th>\n",
       "      <td>74.099998</td>\n",
       "      <td>36.508537</td>\n",
       "      <td>145.759995</td>\n",
       "      <td>74.397499</td>\n",
       "      <td>253.669998</td>\n",
       "      <td>106.260002</td>\n",
       "      <td>325.529999</td>\n",
       "      <td>129.399994</td>\n",
       "      <td>34.790001</td>\n",
       "      <td>96.639999</td>\n",
       "      <td>24.879999</td>\n",
       "      <td>22.65</td>\n",
       "    </tr>\n",
       "  </tbody>\n",
       "</table>\n",
       "</div>"
      ],
      "text/plain": [
       "                 MRNA        PFE         JNJ      GOOGL        META  \\\n",
       "Date                                                                  \n",
       "2020-07-27  79.910004  35.616699  147.179993  76.471497  233.500000   \n",
       "2020-07-28  81.489998  37.020874  146.830002  75.182503  230.119995   \n",
       "2020-07-29  79.510002  37.248577  146.539993  76.175499  233.289993   \n",
       "2020-07-30  77.629997  36.755219  146.839996  76.918503  234.500000   \n",
       "2020-07-31  74.099998  36.508537  145.759995  74.397499  253.669998   \n",
       "\n",
       "                  AAPL        COST         WMT         KR        JPM  \\\n",
       "Date                                                                   \n",
       "2020-07-27   94.809998  327.600006  131.210007  34.759998  96.900002   \n",
       "2020-07-28   93.252502  327.570007  131.759995  35.230000  97.320000   \n",
       "2020-07-29   95.040001  326.140015  130.690002  35.110001  99.680000   \n",
       "2020-07-30   96.190002  324.820007  130.119995  34.410000  97.019997   \n",
       "2020-07-31  106.260002  325.529999  129.399994  34.790001  96.639999   \n",
       "\n",
       "                  BAC   HSBC  \n",
       "Date                          \n",
       "2020-07-27  24.139999  22.67  \n",
       "2020-07-28  24.360001  22.75  \n",
       "2020-07-29  25.270000  23.57  \n",
       "2020-07-30  24.840000  22.76  \n",
       "2020-07-31  24.879999  22.65  "
      ]
     },
     "execution_count": 11,
     "metadata": {},
     "output_type": "execute_result"
    }
   ],
   "source": [
    "# Read in price data\n",
    "df = pd.read_csv('/Users/baobach/CQF_June_Cohort/module_2/additional_resources/mean_var_opt/data/portfolio_price.csv', parse_dates=True, index_col=\"Date\")\n",
    "df.head()"
   ]
  },
  {
   "cell_type": "markdown",
   "metadata": {},
   "source": [
    "This is what we need to work with `PyPortfolioOpt`.\n"
   ]
  },
  {
   "cell_type": "markdown",
   "metadata": {},
   "source": [
    "---"
   ]
  },
  {
   "cell_type": "markdown",
   "metadata": {},
   "source": [
    "#### Efficient Frontier Method"
   ]
  },
  {
   "cell_type": "markdown",
   "metadata": {},
   "source": [
    "Let's import `EfficientFrontier`, `risk_models` and `expected_returns`.\n",
    "But first, we have to install the library\n",
    "\n",
    "```zsh\n",
    "pip install PyPortfolioOpt\n",
    "```"
   ]
  },
  {
   "cell_type": "code",
   "execution_count": 12,
   "metadata": {},
   "outputs": [],
   "source": [
    "from pypfopt import EfficientFrontier\n",
    "from pypfopt import risk_models\n",
    "from pypfopt import expected_returns"
   ]
  },
  {
   "cell_type": "code",
   "execution_count": 14,
   "metadata": {},
   "outputs": [
    {
     "name": "stdout",
     "output_type": "stream",
     "text": [
      "OrderedDict([('MRNA', 0.0), ('PFE', 0.0), ('JNJ', 0.0), ('GOOGL', 0.0), ('META', 0.0), ('AAPL', 0.27626), ('COST', 0.29289), ('WMT', 0.0), ('KR', 0.08089), ('JPM', 0.05091), ('BAC', 0.0), ('HSBC', 0.29905)])\n",
      "Expected annual return: 21.8%\n",
      "Annual volatility: 19.2%\n",
      "Sharpe Ratio: 1.03\n"
     ]
    },
    {
     "data": {
      "text/plain": [
       "(0.21816890214640214, 0.1920592012229367, 1.0318115502124445)"
      ]
     },
     "execution_count": 14,
     "metadata": {},
     "output_type": "execute_result"
    }
   ],
   "source": [
    "# Calculate expected returns and sample covariance\n",
    "mu = expected_returns.mean_historical_return(df)\n",
    "S = risk_models.sample_cov(df)\n",
    "\n",
    "# Optimize for maximal Sharpe ratio\n",
    "ef = EfficientFrontier(mu, S)\n",
    "raw_weights = ef.max_sharpe()\n",
    "cleaned_weights = ef.clean_weights()\n",
    "ef.save_weights_to_file(\"/Users/baobach/CQF_June_Cohort/module_2/additional_resources/mean_var_opt/data/weights.csv\")  # saves to file\n",
    "print(cleaned_weights)\n",
    "ef.portfolio_performance(verbose=True)"
   ]
  },
  {
   "cell_type": "code",
   "execution_count": null,
   "metadata": {},
   "outputs": [],
   "source": []
  }
 ],
 "metadata": {
  "kernelspec": {
   "display_name": "base",
   "language": "python",
   "name": "python3"
  },
  "language_info": {
   "codemirror_mode": {
    "name": "ipython",
    "version": 3
   },
   "file_extension": ".py",
   "mimetype": "text/x-python",
   "name": "python",
   "nbconvert_exporter": "python",
   "pygments_lexer": "ipython3",
   "version": "3.9.16"
  },
  "orig_nbformat": 4
 },
 "nbformat": 4,
 "nbformat_minor": 2
}
