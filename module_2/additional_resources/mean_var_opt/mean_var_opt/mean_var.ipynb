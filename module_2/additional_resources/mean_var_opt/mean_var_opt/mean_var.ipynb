{
 "cells": [
  {
   "cell_type": "markdown",
   "metadata": {},
   "source": [
    "# Portfolio Optimization Using Mean-Variance method"
   ]
  },
  {
   "cell_type": "markdown",
   "metadata": {},
   "source": [
    "---"
   ]
  },
  {
   "cell_type": "markdown",
   "metadata": {},
   "source": [
    "## Introduction"
   ]
  },
  {
   "cell_type": "markdown",
   "metadata": {},
   "source": [
    "In our portfolio optimization lecture, we will create a diversified portfolio spanning various industries utilizing the Mean-Variance method. We will use `PyPortfolioOpt` to solve this optimizing problem.\n",
    "\n",
    "We now try to find a portfolio $w=(w_1,\\cdots,w_n)$ that minimizes risk and maximizes return for a particular set of assets.\n",
    "\n",
    "Note that we only consider **Long Position** "
   ]
  },
  {
   "cell_type": "markdown",
   "metadata": {},
   "source": [
    "---"
   ]
  },
  {
   "cell_type": "markdown",
   "metadata": {},
   "source": [
    "## Algorithm overview"
   ]
  },
  {
   "cell_type": "markdown",
   "metadata": {},
   "source": [
    "<img src=\"/Users/baobach/CQF_June_Cohort/pictures/portfolio_opt_algo.png\" height=\"400\">\n"
   ]
  },
  {
   "cell_type": "markdown",
   "metadata": {},
   "source": [
    "---"
   ]
  },
  {
   "cell_type": "markdown",
   "metadata": {},
   "source": [
    "### Math"
   ]
  },
  {
   "cell_type": "markdown",
   "metadata": {},
   "source": [
    "The vector of asset expected returns $\\mu$ is defined as:\n",
    "\n",
    "$$\n",
    "\\mu = \\begin{pmatrix} \\mu_{1} \\\\ \\vdots \\\\ \\mu_{i} \\\\ \\vdots \\\\ \\mu_{n} \\end{pmatrix}\n",
    "$$\n",
    "\n",
    "The vector of weights is:\n",
    "$$\n",
    "w = \n",
    "\\begin{pmatrix} w_{1} \\\\ \\vdots \\\\ w_{i} \\\\ \\vdots \\\\ w_{n} \\end{pmatrix}\n",
    "$$\n",
    "\n",
    "> Such that $\\sum\\limits_{i=1}^{n}w_i = 1$\n",
    "\n",
    "Then **Expected Portfolio Return** is then the dot product of the expected returns and their weights:\n",
    "\n",
    "$$\n",
    "\\mu_\\pi = w^\\intercal \\cdot \\mu\n",
    "$$\n",
    "\n",
    "And **Expected Portfolio Variance** is then the multidot product of weights and the covariance matrix:\n",
    "\n",
    "$$\n",
    "\\sigma_\\pi^2 = w^\\intercal \\cdot \\Sigma \\cdot w\n",
    "$$\n",
    "\n",
    "The covariance matrix $\\Sigma$ is given by:\n",
    "\n",
    "$$\n",
    "\\Sigma =\n",
    "\\begin{pmatrix}\n",
    "\\sigma^{2}_{1} & \\rho_{12} \\sigma_{1} \\sigma_{2} & \\cdots & \\rho_{1n} \\sigma_{1} \\sigma_{n} \\\\ \\rho_{21} \\sigma_{2} \\sigma_{1} & \\sigma^{2}_{2} & \\cdots & \\rho_{2n} \\sigma_{2} \\sigma_{n}  \\\\ \\vdots \\\\ \\rho_{n1} \\sigma_{n} \\sigma_{1} & \\cdots & \\cdots & \\sigma^{2}_{n}\n",
    "\\end{pmatrix}\n",
    "$$\n",
    "\n",
    "Now we will find portfolio with the minimum risk (Minimum Volatility) $\\sigma_\\pi$ given target return $\\mu^*$:\n",
    "\n",
    "$$\n",
    "\\begin{align*}\n",
    "&\\underset{w}{\\text{min}} &w^\\intercal \\cdot \\Sigma \\cdot w \\\\\n",
    "&\\text{subject to} &w^\\intercal \\cdot \\mu &\\geq \\mu^* \\\\\n",
    "& &w^\\intercal \\cdot \\mathbf{1} &= 1 \\\\\n",
    "& &w_i &\\geq 0\n",
    "\\end{align*}\n",
    "$$\n",
    "\n",
    "If we vary the target return, we will get a different set of weights (i.e a different portfolio) – the set of all these optimal portfolios is referred to as the efficient frontier."
   ]
  },
  {
   "cell_type": "markdown",
   "metadata": {},
   "source": [
    "---"
   ]
  },
  {
   "cell_type": "markdown",
   "metadata": {},
   "source": [
    "### Programing"
   ]
  },
  {
   "cell_type": "markdown",
   "metadata": {},
   "source": [
    "Instead of simulating a lot of portfolio and try to find the best $w$ vector, we are going to use Efficient frontier\n",
    "\n",
    "Preparing historical asset price data to construct a portfolio following these steps:\n",
    "\n",
    "1. Select stock from diversified industries like Healthcare, Tech, Retail and Finance: \n",
    "\n",
    "    * Healthcare: Moderna (MRNA), Pfizer (PFE), Johnson & Johnson (JNJ)\n",
    "    * Tech: Google (GOOGL), Facebook (FB), Apple (AAPL)\n",
    "    * Retail: Costco (COST), Walmart (WMT),  Kroger Co (KR)\n",
    "    * Finance: JPMorgan Chase & Co (JPM), Bank of America (BAC), HSBC Holding (HSBC)  \n",
    "  \n",
    "2. Using `yfinance` package, pull historical trading data and calculate the returns \n",
    "\n",
    "3. Using `PyPortfolioOpt` to calculating covariance matrix\n",
    "\n",
    "4. Apply Efficient frontier method to find the $w$ vector that has max Sharp ratio"
   ]
  },
  {
   "cell_type": "markdown",
   "metadata": {},
   "source": [
    "#### Preparing historical data"
   ]
  },
  {
   "cell_type": "markdown",
   "metadata": {},
   "source": [
    "Import working libraries"
   ]
  },
  {
   "cell_type": "code",
   "execution_count": 1,
   "metadata": {},
   "outputs": [],
   "source": [
    "# Import pandas & yfinance\n",
    "import pandas as pd\n",
    "import yfinance as yf\n",
    "# Import numpy\n",
    "import numpy as np\n",
    "# Import date_time\n",
    "import datetime"
   ]
  },
  {
   "cell_type": "markdown",
   "metadata": {},
   "source": [
    "Create a list of stocks that we are intrested as mentioned and determine time constrains"
   ]
  },
  {
   "cell_type": "code",
   "execution_count": 2,
   "metadata": {},
   "outputs": [],
   "source": [
    "# Stock list\n",
    "stocks = [\"MRNA\", \"PFE\", \"JNJ\", \"GOOGL\", \"META\", \"AAPL\", \"COST\", \"WMT\", \"KR\", \"JPM\", \"BAC\", \"HSBC\"]\n",
    "# Time constrains for 3 years of data\n",
    "start = datetime.datetime(2020,7,25)\n",
    "end = datetime.datetime(2023,7,25)"
   ]
  },
  {
   "cell_type": "markdown",
   "metadata": {},
   "source": [
    "Let's use `yfinance` to retrive data for just `MRNA`"
   ]
  },
  {
   "cell_type": "code",
   "execution_count": 3,
   "metadata": {},
   "outputs": [
    {
     "ename": "KeyboardInterrupt",
     "evalue": "",
     "output_type": "error",
     "traceback": [
      "\u001b[0;31m---------------------------------------------------------------------------\u001b[0m",
      "\u001b[0;31mKeyboardInterrupt\u001b[0m                         Traceback (most recent call last)",
      "Cell \u001b[0;32mIn[3], line 1\u001b[0m\n\u001b[0;32m----> 1\u001b[0m temp \u001b[39m=\u001b[39m yf\u001b[39m.\u001b[39;49mdownload(\u001b[39m\"\u001b[39;49m\u001b[39mMRNA\u001b[39;49m\u001b[39m\"\u001b[39;49m, start \u001b[39m=\u001b[39;49m start, end \u001b[39m=\u001b[39;49m end, progress\u001b[39m=\u001b[39;49m\u001b[39mFalse\u001b[39;49;00m)\n\u001b[1;32m      2\u001b[0m temp\u001b[39m.\u001b[39mhead()\n",
      "File \u001b[0;32m~/opt/anaconda3/envs/pythonlab/lib/python3.9/site-packages/yfinance/utils.py:105\u001b[0m, in \u001b[0;36mlog_indent_decorator.<locals>.wrapper\u001b[0;34m(*args, **kwargs)\u001b[0m\n\u001b[1;32m    102\u001b[0m logger\u001b[39m.\u001b[39mdebug(\u001b[39mf\u001b[39m\u001b[39m'\u001b[39m\u001b[39mEntering \u001b[39m\u001b[39m{\u001b[39;00mfunc\u001b[39m.\u001b[39m\u001b[39m__name__\u001b[39m\u001b[39m}\u001b[39;00m\u001b[39m()\u001b[39m\u001b[39m'\u001b[39m)\n\u001b[1;32m    104\u001b[0m \u001b[39mwith\u001b[39;00m IndentationContext():\n\u001b[0;32m--> 105\u001b[0m     result \u001b[39m=\u001b[39m func(\u001b[39m*\u001b[39;49margs, \u001b[39m*\u001b[39;49m\u001b[39m*\u001b[39;49mkwargs)\n\u001b[1;32m    107\u001b[0m logger\u001b[39m.\u001b[39mdebug(\u001b[39mf\u001b[39m\u001b[39m'\u001b[39m\u001b[39mExiting \u001b[39m\u001b[39m{\u001b[39;00mfunc\u001b[39m.\u001b[39m\u001b[39m__name__\u001b[39m\u001b[39m}\u001b[39;00m\u001b[39m()\u001b[39m\u001b[39m'\u001b[39m)\n\u001b[1;32m    108\u001b[0m \u001b[39mreturn\u001b[39;00m result\n",
      "File \u001b[0;32m~/opt/anaconda3/envs/pythonlab/lib/python3.9/site-packages/yfinance/multi.py:157\u001b[0m, in \u001b[0;36mdownload\u001b[0;34m(tickers, start, end, actions, threads, ignore_tz, group_by, auto_adjust, back_adjust, repair, keepna, progress, period, show_errors, interval, prepost, proxy, rounding, timeout, session)\u001b[0m\n\u001b[1;32m    150\u001b[0m         _download_one_threaded(ticker, period\u001b[39m=\u001b[39mperiod, interval\u001b[39m=\u001b[39minterval,\n\u001b[1;32m    151\u001b[0m                                start\u001b[39m=\u001b[39mstart, end\u001b[39m=\u001b[39mend, prepost\u001b[39m=\u001b[39mprepost,\n\u001b[1;32m    152\u001b[0m                                actions\u001b[39m=\u001b[39mactions, auto_adjust\u001b[39m=\u001b[39mauto_adjust,\n\u001b[1;32m    153\u001b[0m                                back_adjust\u001b[39m=\u001b[39mback_adjust, repair\u001b[39m=\u001b[39mrepair, keepna\u001b[39m=\u001b[39mkeepna,\n\u001b[1;32m    154\u001b[0m                                progress\u001b[39m=\u001b[39m(progress \u001b[39mand\u001b[39;00m i \u001b[39m>\u001b[39m \u001b[39m0\u001b[39m), proxy\u001b[39m=\u001b[39mproxy,\n\u001b[1;32m    155\u001b[0m                                rounding\u001b[39m=\u001b[39mrounding, timeout\u001b[39m=\u001b[39mtimeout, session\u001b[39m=\u001b[39msession)\n\u001b[1;32m    156\u001b[0m     \u001b[39mwhile\u001b[39;00m \u001b[39mlen\u001b[39m(shared\u001b[39m.\u001b[39m_DFS) \u001b[39m<\u001b[39m \u001b[39mlen\u001b[39m(tickers):\n\u001b[0;32m--> 157\u001b[0m         _time\u001b[39m.\u001b[39;49msleep(\u001b[39m0.01\u001b[39;49m)\n\u001b[1;32m    158\u001b[0m \u001b[39m# download synchronously\u001b[39;00m\n\u001b[1;32m    159\u001b[0m \u001b[39melse\u001b[39;00m:\n\u001b[1;32m    160\u001b[0m     \u001b[39mfor\u001b[39;00m i, ticker \u001b[39min\u001b[39;00m \u001b[39menumerate\u001b[39m(tickers):\n",
      "\u001b[0;31mKeyboardInterrupt\u001b[0m: "
     ]
    }
   ],
   "source": [
    "temp = yf.download(\"MRNA\", start = start, end = end, progress=False)\n",
    "temp.head()"
   ]
  },
  {
   "cell_type": "markdown",
   "metadata": {},
   "source": [
    "It's working fine, let’s wrap this logic in a function that we can easily reuse since we will be pulling several stocks:"
   ]
  },
  {
   "cell_type": "code",
   "execution_count": null,
   "metadata": {},
   "outputs": [],
   "source": [
    "def get_stock(ticker):\n",
    "    data = yf.download(f'{ticker}', start = start, end = end, progress=False)\n",
    "    data[f'{ticker}'] = data[\"Close\"]\n",
    "    data = data[[f'{ticker}']] \n",
    "    print(data.head())\n",
    "    return data"
   ]
  },
  {
   "cell_type": "markdown",
   "metadata": {},
   "source": [
    "Now, let’s pull for Pfizer (PFE) and Johnson & Johnson (JNJ):"
   ]
  },
  {
   "cell_type": "code",
   "execution_count": null,
   "metadata": {},
   "outputs": [
    {
     "name": "stdout",
     "output_type": "stream",
     "text": [
      "                  PFE\n",
      "Date                 \n",
      "2020-07-27  35.616699\n",
      "2020-07-28  37.020874\n",
      "2020-07-29  37.248577\n",
      "2020-07-30  36.755219\n",
      "2020-07-31  36.508537\n",
      "                   JNJ\n",
      "Date                  \n",
      "2020-07-27  147.179993\n",
      "2020-07-28  146.830002\n",
      "2020-07-29  146.539993\n",
      "2020-07-30  146.839996\n",
      "2020-07-31  145.759995\n"
     ]
    },
    {
     "data": {
      "text/html": [
       "<div>\n",
       "<style scoped>\n",
       "    .dataframe tbody tr th:only-of-type {\n",
       "        vertical-align: middle;\n",
       "    }\n",
       "\n",
       "    .dataframe tbody tr th {\n",
       "        vertical-align: top;\n",
       "    }\n",
       "\n",
       "    .dataframe thead th {\n",
       "        text-align: right;\n",
       "    }\n",
       "</style>\n",
       "<table border=\"1\" class=\"dataframe\">\n",
       "  <thead>\n",
       "    <tr style=\"text-align: right;\">\n",
       "      <th></th>\n",
       "      <th>JNJ</th>\n",
       "    </tr>\n",
       "    <tr>\n",
       "      <th>Date</th>\n",
       "      <th></th>\n",
       "    </tr>\n",
       "  </thead>\n",
       "  <tbody>\n",
       "    <tr>\n",
       "      <th>2020-07-27</th>\n",
       "      <td>147.179993</td>\n",
       "    </tr>\n",
       "    <tr>\n",
       "      <th>2020-07-28</th>\n",
       "      <td>146.830002</td>\n",
       "    </tr>\n",
       "    <tr>\n",
       "      <th>2020-07-29</th>\n",
       "      <td>146.539993</td>\n",
       "    </tr>\n",
       "    <tr>\n",
       "      <th>2020-07-30</th>\n",
       "      <td>146.839996</td>\n",
       "    </tr>\n",
       "    <tr>\n",
       "      <th>2020-07-31</th>\n",
       "      <td>145.759995</td>\n",
       "    </tr>\n",
       "  </tbody>\n",
       "</table>\n",
       "</div>"
      ],
      "text/plain": [
       "                   JNJ\n",
       "Date                  \n",
       "2020-07-27  147.179993\n",
       "2020-07-28  146.830002\n",
       "2020-07-29  146.539993\n",
       "2020-07-30  146.839996\n",
       "2020-07-31  145.759995"
      ]
     },
     "execution_count": 10,
     "metadata": {},
     "output_type": "execute_result"
    }
   ],
   "source": [
    "pfizer = get_stock(\"PFE\")\n",
    "jnj = get_stock(\"JNJ\")"
   ]
  },
  {
   "cell_type": "markdown",
   "metadata": {},
   "source": [
    "Let’s define another function that takes a list of stocks and generate a single data frame of stock prices for each stock:"
   ]
  },
  {
   "cell_type": "code",
   "execution_count": null,
   "metadata": {},
   "outputs": [],
   "source": [
    "from functools import reduce\n",
    "\n",
    "def combine_stocks(tickers):\n",
    "    data_frames = [get_stock(i) for i in tickers]\n",
    "    # Similar to SQL join, we are accumulating the new array to the existing array.\n",
    "    # `pd.merge` has better performance than `list.append` method\n",
    "    df_merged = reduce(lambda  left,right: pd.merge(left,right,on=['Date'], how='outer'), data_frames)\n",
    "    print(df_merged.head())\n",
    "    return df_merged\n"
   ]
  },
  {
   "cell_type": "code",
   "execution_count": null,
   "metadata": {},
   "outputs": [
    {
     "ename": "NameError",
     "evalue": "name 'combine_stocks' is not defined",
     "output_type": "error",
     "traceback": [
      "\u001b[0;31m---------------------------------------------------------------------------\u001b[0m",
      "\u001b[0;31mNameError\u001b[0m                                 Traceback (most recent call last)",
      "\u001b[0;32m/var/folders/wg/q858_v6j25jg2z3z1182cbqw0000gn/T/ipykernel_13178/16262686.py\u001b[0m in \u001b[0;36m<module>\u001b[0;34m\u001b[0m\n\u001b[1;32m      1\u001b[0m \u001b[0;31m# Create portfolio of stocks\u001b[0m\u001b[0;34m\u001b[0m\u001b[0;34m\u001b[0m\u001b[0m\n\u001b[0;32m----> 2\u001b[0;31m \u001b[0mportfolio\u001b[0m \u001b[0;34m=\u001b[0m \u001b[0mcombine_stocks\u001b[0m\u001b[0;34m(\u001b[0m\u001b[0mstocks\u001b[0m\u001b[0;34m)\u001b[0m\u001b[0;34m\u001b[0m\u001b[0;34m\u001b[0m\u001b[0m\n\u001b[0m",
      "\u001b[0;31mNameError\u001b[0m: name 'combine_stocks' is not defined"
     ]
    }
   ],
   "source": [
    "# Create portfolio of stocks\n",
    "portfolio = combine_stocks(stocks)"
   ]
  },
  {
   "cell_type": "markdown",
   "metadata": {},
   "source": [
    "We now have a single dataframe of returns for our stocks. Let’s write this dataframe to a csv so we can easily read in the data without repeatedly having to pull it using the Pandas-Datareader."
   ]
  },
  {
   "cell_type": "code",
   "execution_count": null,
   "metadata": {},
   "outputs": [],
   "source": [
    "# write data to file for future use\n",
    "df.to_csv('data/india_stocks.csv')"
   ]
  }
 ],
 "metadata": {
  "kernelspec": {
   "display_name": "base",
   "language": "python",
   "name": "python3"
  },
  "language_info": {
   "codemirror_mode": {
    "name": "ipython",
    "version": 3
   },
   "file_extension": ".py",
   "mimetype": "text/x-python",
   "name": "python",
   "nbconvert_exporter": "python",
   "pygments_lexer": "ipython3",
   "version": "3.9.16"
  },
  "orig_nbformat": 4
 },
 "nbformat": 4,
 "nbformat_minor": 2
}
