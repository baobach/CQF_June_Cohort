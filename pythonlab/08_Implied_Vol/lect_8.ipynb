{
 "cells": [
  {
   "cell_type": "markdown",
   "metadata": {},
   "source": [
    "# Implied Volatility"
   ]
  },
  {
   "cell_type": "markdown",
   "metadata": {},
   "source": [
    "## 1. Implied Volatility"
   ]
  },
  {
   "cell_type": "markdown",
   "metadata": {},
   "source": [
    "Implied volatility (IV) is one of the most important parameter in options pricing. IV is determined by the current market price of option contracts on a particular underlying asset. IV is commonly\n",
    "represented as a percentage that indicates the annualized expected one standard deviation range for the underlying asset implied from the option prices. \n",
    "\n",
    "IV $\\sigma_{\\text{imp}}$ is the volatility value $\\sigma$ that makes the Black Scholes value of the option equal to the traded price of the option. In the Black-Scholes model, volatility is the only parameter that can’t be directly observed. All other parameters can be determined through market data and this parameter is determined by a numerical optimization technique given the Black-Scholes model."
   ]
  },
  {
   "cell_type": "code",
   "execution_count": 2,
   "metadata": {},
   "outputs": [],
   "source": [
    "# Data Manipulation\n",
    "from numpy import *\n",
    "from datetime import datetime\n",
    "# Import blackscholes object\n",
    "from optionpricer2 import BS\n",
    "from tabulate import tabulate"
   ]
  },
  {
   "cell_type": "markdown",
   "metadata": {},
   "source": [
    "## 2. Implied Volatility Formulation"
   ]
  },
  {
   "cell_type": "markdown",
   "metadata": {},
   "source": [
    "The Black–Scholes equation describes the price of the option over time as:\n",
    "\n",
    "$$\n",
    "\\frac{\\partial V}{\\partial t} + \\frac{1}{2} \\sigma^{2} S^{2} \\frac{\\partial ^{2}V}{\\partial S^{2}} + rS \\frac{\\partial V}{\\partial S} - rV = 0\n",
    "$$"
   ]
  },
  {
   "cell_type": "markdown",
   "metadata": {},
   "source": [
    "Solving the above equation, we know that the value of a call option for a non-dividend paying stock is:\n",
    "\n",
    "$$\n",
    "C = SN(d_{1}) − Ee^{−r(T−t)} N(d_{2})\n",
    "$$"
   ]
  },
  {
   "cell_type": "markdown",
   "metadata": {},
   "source": [
    "and, the corresponding put option price is:\n",
    "\n",
    "$$\n",
    "P = -SN(-d_{1}) + Ee^{−r(T−t)} N(-d_{2})\n",
    "$$"
   ]
  },
  {
   "cell_type": "markdown",
   "metadata": {},
   "source": [
    "Where:\n",
    "\n",
    "$$\n",
    "\\begin{align*}\n",
    "d_{1} &= \\dfrac{\\log\\left(\\frac{S}{E}\\right)+ (r+ \\frac 1 2 \\sigma^{2})(T-t)}{\\sigma \\sqrt{T - t}}\\\\\n",
    "\\\\\n",
    "d_{2} &= \\dfrac{\\log\\left(\\frac{S}{E}\\right)+ (r - \\frac 1 2 \\sigma^{2})(T-t)}{\\sigma \\sqrt{T - t}}\\\\\n",
    "\\\\\n",
    "N(x) &= \\frac{1}{\\sqrt{2\\pi}} \\int_{-\\infty}^{x} e^{-\\frac 1 2 \\phi^{2}} \\: d\\phi\n",
    "\\end{align*}\n",
    "$$"
   ]
  },
  {
   "cell_type": "markdown",
   "metadata": {},
   "source": [
    "We can look at the call and put equation as a function of the volatility parameter $\\sigma$. Finding implied volatility thus requires solving the nonlinear problem $f(x) = 0$ where $x = \\sigma$ given a starting estimate."
   ]
  },
  {
   "cell_type": "markdown",
   "metadata": {},
   "source": [
    "For call options we have:\n",
    "\n",
    "$$\n",
    "f(x) = SN(d_1) - Ee^{-rt} N(d_2) - C\n",
    "$$\n",
    "\n",
    "and for puts:\n",
    "\n",
    "$$\n",
    "f(x) = -SN(d_1) + Ee^{-rt}N(-d_2) - P\n",
    "$$\n",
    "\n",
    "To solve the function when $f(x) = 0$, numerical precedures like Bisection or Newton’s method are employed.\n"
   ]
  },
  {
   "cell_type": "markdown",
   "metadata": {},
   "source": [
    "### 2.1 Newton Method"
   ]
  },
  {
   "cell_type": "code",
   "execution_count": 3,
   "metadata": {},
   "outputs": [],
   "source": [
    "def newton_iv(className, spot, strike, rate, dte, callprice=None, putprice=None):\n",
    "    x0 = 1              # Initial guess\n",
    "    h = 0.001           # Step size\n",
    "    tolerance = 1e-7    # 7-digit accuracy is desired\n",
    "    epsilon = 1e-14     # Do not divide by a number smaller than this, some kind of error/floor\n",
    "    maxiter = 200       # Maximum number of iterations to execute\n",
    "\n",
    "    # Function whose root we are trying to find\n",
    "    if callprice:\n",
    "        f = lambda x: eval(className)(spot, strike, rate, dte, x).callPrice - callprice\n",
    "    if putprice:\n",
    "        f = lambda x: eval(className)(spot, strike, rate, dte, x).putPrice - putprice\n",
    "\n",
    "    for i in range(maxiter):\n",
    "        y = f(x0)                                   # Starting with the initial guess\n",
    "        yprime = (f(x0 + h) - f(x0 - h)) / (2 * h)  # Central difference, the derivative of the function\n",
    "\n",
    "        if abs(yprime) < epsilon:                   # Stop if the denominator is too small\n",
    "            break\n",
    "\n",
    "        x1 = x0 - y / yprime                        # Perform Newton's computation\n",
    "\n",
    "        if abs(x1 - x0) <= tolerance * abs(x1):     # Stop when the result is within the desired tolerance\n",
    "            break\n",
    "\n",
    "        x0 = x1                                     # Update x0 to start the process again\n",
    "\n",
    "    return x1                                       # x1 is a solution within tolerance and the maximum number of iterations"
   ]
  },
  {
   "cell_type": "code",
   "execution_count": 4,
   "metadata": {},
   "outputs": [
    {
     "data": {
      "text/plain": [
       "0.17657213831399154"
      ]
     },
     "execution_count": 4,
     "metadata": {},
     "output_type": "execute_result"
    }
   ],
   "source": [
    "# newton iv\n",
    "newton_iv('BS',100,100,0.02,1,callprice=8)"
   ]
  },
  {
   "cell_type": "markdown",
   "metadata": {},
   "source": [
    "### 2.2 Bisection Method"
   ]
  },
  {
   "cell_type": "code",
   "execution_count": 5,
   "metadata": {},
   "outputs": [],
   "source": [
    "def bisection_iv(className, spot, strike, rate, dte, callprice=None, putprice=None, high=500.0, low=0.0):\n",
    "    # This is market price\n",
    "    if callprice:\n",
    "        price = callprice\n",
    "    if putprice and not callprice:\n",
    "        price = putprice\n",
    "\n",
    "    tolerance = 1e-7\n",
    "\n",
    "    for i in range(1000):\n",
    "        mid = (high + low) / 2  # Calculate the midpoint (c = (a + b) / 2)\n",
    "        \n",
    "        if mid < tolerance:\n",
    "            mid = tolerance\n",
    "\n",
    "        if callprice:\n",
    "            estimate = eval(className)(spot, strike, rate, dte, mid).callPrice  # Black-Scholes price\n",
    "        if putprice:\n",
    "            estimate = eval(className)(spot, strike, rate, dte, mid).putPrice\n",
    "\n",
    "        if round(estimate, 6) == price:\n",
    "            break\n",
    "        elif estimate > price:\n",
    "            high = mid  # Replace c with b (b = c)\n",
    "        elif estimate < price:\n",
    "            low = mid  # Replace c with a (a = c)\n",
    "\n",
    "    return mid"
   ]
  },
  {
   "cell_type": "code",
   "execution_count": 6,
   "metadata": {},
   "outputs": [
    {
     "data": {
      "text/plain": [
       "0.17657213902566582"
      ]
     },
     "execution_count": 6,
     "metadata": {},
     "output_type": "execute_result"
    }
   ],
   "source": [
    "# bisection iv\n",
    "bisection_iv('BS',100,100,0.02,1,callprice=8)"
   ]
  },
  {
   "cell_type": "markdown",
   "metadata": {},
   "source": [
    "## 3. BS Implied Volatility"
   ]
  },
  {
   "cell_type": "markdown",
   "metadata": {},
   "source": [
    "Using Bisection Method to update our `optionpricer.py` class to calculate implied volatility"
   ]
  },
  {
   "cell_type": "code",
   "execution_count": 7,
   "metadata": {},
   "outputs": [
    {
     "name": "stdout",
     "output_type": "stream",
     "text": [
      "  Option Price     Delta     Gamma       Theta     Vega       Rho        IV\n",
      "--------------  --------  --------  ----------  -------  --------  --------\n",
      "       10.4506  0.636831  0.018762  -0.0175727  0.37524  0.532325  0.133776\n"
     ]
    }
   ],
   "source": [
    "# Initialize option\n",
    "option = BS(100, 100, 0.05, 1, 0.2, callprice=8)\n",
    "header = ['Option Price', 'Delta', 'Gamma', 'Theta', 'Vega', 'Rho', 'IV']\n",
    "table = [[option.callPrice, option.callDelta, option.gamma, option.callTheta,\n",
    "          option.vega, option.callRho, option.impvol]]\n",
    "\n",
    "print(tabulate(table, header))\n"
   ]
  }
 ],
 "metadata": {
  "kernelspec": {
   "display_name": "pythonlab",
   "language": "python",
   "name": "python3"
  },
  "language_info": {
   "codemirror_mode": {
    "name": "ipython",
    "version": 3
   },
   "file_extension": ".py",
   "mimetype": "text/x-python",
   "name": "python",
   "nbconvert_exporter": "python",
   "pygments_lexer": "ipython3",
   "version": "3.9.16"
  },
  "orig_nbformat": 4
 },
 "nbformat": 4,
 "nbformat_minor": 2
}
